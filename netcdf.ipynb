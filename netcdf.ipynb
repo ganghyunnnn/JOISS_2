{
 "cells": [
  {
   "cell_type": "code",
   "execution_count": 4,
   "metadata": {
    "collapsed": true,
    "pycharm": {
     "name": "#%%\n"
    }
   },
   "outputs": [],
   "source": [
    "import netCDF4 as nc"
   ]
  },
  {
   "cell_type": "code",
   "execution_count": 10,
   "outputs": [
    {
     "name": "stdout",
     "output_type": "stream",
     "text": [
      "dict_keys(['Station', 'Latitude', 'Longitude', 'Time', 'Depth', 'Temperature', 'Salinity'])\n"
     ]
    }
   ],
   "source": [
    "path  = 'D:/JOISS/1966년부터 2021년까지의 수온 및 염분 정선관측자료.nc'\n",
    "ncfile = nc.Dataset(path)\n",
    "print(ncfile.variables.keys())"
   ],
   "metadata": {
    "collapsed": false,
    "pycharm": {
     "name": "#%%\n"
    }
   }
  },
  {
   "cell_type": "code",
   "execution_count": 14,
   "outputs": [
    {
     "name": "stdout",
     "output_type": "stream",
     "text": [
      "[[[        nan         nan         nan ...         nan         nan\n",
      "           nan]\n",
      "  [        nan         nan         nan ...         nan         nan\n",
      "           nan]\n",
      "  [        nan         nan         nan ...         nan         nan\n",
      "           nan]\n",
      "  ...\n",
      "  [33.11215445 32.77519404 33.39799523 ... 33.57382267 33.58950246\n",
      "   33.51663827]\n",
      "  [33.83413329 33.39755135 34.05575614 ... 34.15638513 34.18433597\n",
      "   34.07882877]\n",
      "  [34.11427324 34.1344663  34.16875471 ... 34.3674667  34.41443087\n",
      "   34.26441736]]\n",
      "\n",
      " [[        nan         nan         nan ...         nan         nan\n",
      "           nan]\n",
      "  [        nan         nan         nan ...         nan         nan\n",
      "           nan]\n",
      "  [        nan         nan         nan ...         nan         nan\n",
      "           nan]\n",
      "  ...\n",
      "  [33.20564223 33.36039244 33.39439961 ... 33.56437895 33.64906855\n",
      "   33.4965213 ]\n",
      "  [33.82249019 33.99432525 34.0542892  ... 34.15694308 34.18493597\n",
      "   34.06410343]\n",
      "  [34.11335493 34.15569546 34.16908711 ... 34.36776964 34.41503087\n",
      "   34.26419214]]\n",
      "\n",
      " [[        nan         nan         nan ...         nan         nan\n",
      "           nan]\n",
      "  [        nan         nan         nan ...         nan         nan\n",
      "           nan]\n",
      "  [        nan         nan         nan ...         nan         nan\n",
      "           nan]\n",
      "  ...\n",
      "  [33.19280371 33.78600627 33.41258732 ... 33.5723792  33.6573767\n",
      "   33.56677565]\n",
      "  [33.79139676 33.94456711 33.99242273 ... 34.15785616 34.18482047\n",
      "   34.05079007]\n",
      "  [34.10968527 34.13170473 34.11470589 ... 34.36906523 34.41542387\n",
      "   34.26389004]]\n",
      "\n",
      " ...\n",
      "\n",
      " [[        nan         nan         nan ...         nan         nan\n",
      "           nan]\n",
      "  [        nan         nan         nan ...         nan         nan\n",
      "           nan]\n",
      "  [        nan         nan         nan ...         nan         nan\n",
      "           nan]\n",
      "  ...\n",
      "  [        nan         nan         nan ...         nan         nan\n",
      "           nan]\n",
      "  [        nan         nan         nan ...         nan         nan\n",
      "           nan]\n",
      "  [        nan         nan         nan ...         nan         nan\n",
      "           nan]]\n",
      "\n",
      " [[        nan         nan         nan ...         nan         nan\n",
      "           nan]\n",
      "  [        nan         nan         nan ...         nan         nan\n",
      "           nan]\n",
      "  [        nan         nan         nan ...         nan         nan\n",
      "           nan]\n",
      "  ...\n",
      "  [        nan         nan         nan ...         nan         nan\n",
      "           nan]\n",
      "  [        nan         nan         nan ...         nan         nan\n",
      "           nan]\n",
      "  [        nan         nan         nan ...         nan         nan\n",
      "           nan]]\n",
      "\n",
      " [[        nan         nan         nan ...         nan         nan\n",
      "           nan]\n",
      "  [        nan         nan         nan ...         nan         nan\n",
      "           nan]\n",
      "  [        nan         nan         nan ...         nan         nan\n",
      "           nan]\n",
      "  ...\n",
      "  [        nan         nan         nan ...         nan         nan\n",
      "           nan]\n",
      "  [        nan         nan         nan ...         nan         nan\n",
      "           nan]\n",
      "  [        nan         nan         nan ...         nan         nan\n",
      "           nan]]]\n"
     ]
    }
   ],
   "source": [
    "print(ncfile['Salinity'][:])"
   ],
   "metadata": {
    "collapsed": false,
    "pycharm": {
     "name": "#%%\n"
    }
   }
  },
  {
   "cell_type": "code",
   "execution_count": null,
   "outputs": [],
   "source": [],
   "metadata": {
    "collapsed": false,
    "pycharm": {
     "name": "#%%\n"
    }
   }
  },
  {
   "cell_type": "code",
   "execution_count": null,
   "outputs": [],
   "source": [],
   "metadata": {
    "collapsed": false,
    "pycharm": {
     "name": "#%%\n"
    }
   }
  }
 ],
 "metadata": {
  "kernelspec": {
   "display_name": "Python 3",
   "language": "python",
   "name": "python3"
  },
  "language_info": {
   "codemirror_mode": {
    "name": "ipython",
    "version": 2
   },
   "file_extension": ".py",
   "mimetype": "text/x-python",
   "name": "python",
   "nbconvert_exporter": "python",
   "pygments_lexer": "ipython2",
   "version": "2.7.6"
  }
 },
 "nbformat": 4,
 "nbformat_minor": 0
}