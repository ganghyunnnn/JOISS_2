{
 "cells": [
  {
   "cell_type": "code",
   "execution_count": 1,
   "outputs": [],
   "source": [
    "import pandas as pd\n",
    "import os\n",
    "import csv"
   ],
   "metadata": {
    "collapsed": false,
    "pycharm": {
     "name": "#%%\n"
    }
   }
  },
  {
   "cell_type": "code",
   "execution_count": 3,
   "outputs": [
    {
     "data": {
      "text/plain": "36"
     },
     "execution_count": 3,
     "metadata": {},
     "output_type": "execute_result"
    }
   ],
   "source": [
    "PATH = 'D:/JOISS/SST/'\n",
    "f_list = os.listdir(PATH)\n",
    "f_path = []\n",
    "for i in range(len(f_list)):\n",
    "    f_path.append(os.path.join(PATH + f_list[i]))\n",
    "len(f_path) # 2002.01 ~ 2004.12"
   ],
   "metadata": {
    "collapsed": false,
    "pycharm": {
     "name": "#%%\n"
    }
   }
  },
  {
   "cell_type": "code",
   "execution_count": 4,
   "outputs": [
    {
     "data": {
      "text/plain": "           Date  Hour    SST    Press\n740  2002-01-01     0  13.08     1010\n739  2002-01-01     1     13  1009.08\n738  2002-01-01     2     13     1009\n737  2002-01-01     3     13     1009\n736  2002-01-01     4     13     1009\n..          ...   ...    ...      ...\n5    2004-12-31    19   13.9  1014.18\n4    2004-12-31    20   13.9  1014.32\n3    2004-12-31    21   13.9  1014.98\n2    2004-12-31    22   13.9  1014.87\n1    2004-12-31    23  13.87  1014.85\n\n[24615 rows x 4 columns]",
      "text/html": "<div>\n<style scoped>\n    .dataframe tbody tr th:only-of-type {\n        vertical-align: middle;\n    }\n\n    .dataframe tbody tr th {\n        vertical-align: top;\n    }\n\n    .dataframe thead th {\n        text-align: right;\n    }\n</style>\n<table border=\"1\" class=\"dataframe\">\n  <thead>\n    <tr style=\"text-align: right;\">\n      <th></th>\n      <th>Date</th>\n      <th>Hour</th>\n      <th>SST</th>\n      <th>Press</th>\n    </tr>\n  </thead>\n  <tbody>\n    <tr>\n      <th>740</th>\n      <td>2002-01-01</td>\n      <td>0</td>\n      <td>13.08</td>\n      <td>1010</td>\n    </tr>\n    <tr>\n      <th>739</th>\n      <td>2002-01-01</td>\n      <td>1</td>\n      <td>13</td>\n      <td>1009.08</td>\n    </tr>\n    <tr>\n      <th>738</th>\n      <td>2002-01-01</td>\n      <td>2</td>\n      <td>13</td>\n      <td>1009</td>\n    </tr>\n    <tr>\n      <th>737</th>\n      <td>2002-01-01</td>\n      <td>3</td>\n      <td>13</td>\n      <td>1009</td>\n    </tr>\n    <tr>\n      <th>736</th>\n      <td>2002-01-01</td>\n      <td>4</td>\n      <td>13</td>\n      <td>1009</td>\n    </tr>\n    <tr>\n      <th>...</th>\n      <td>...</td>\n      <td>...</td>\n      <td>...</td>\n      <td>...</td>\n    </tr>\n    <tr>\n      <th>5</th>\n      <td>2004-12-31</td>\n      <td>19</td>\n      <td>13.9</td>\n      <td>1014.18</td>\n    </tr>\n    <tr>\n      <th>4</th>\n      <td>2004-12-31</td>\n      <td>20</td>\n      <td>13.9</td>\n      <td>1014.32</td>\n    </tr>\n    <tr>\n      <th>3</th>\n      <td>2004-12-31</td>\n      <td>21</td>\n      <td>13.9</td>\n      <td>1014.98</td>\n    </tr>\n    <tr>\n      <th>2</th>\n      <td>2004-12-31</td>\n      <td>22</td>\n      <td>13.9</td>\n      <td>1014.87</td>\n    </tr>\n    <tr>\n      <th>1</th>\n      <td>2004-12-31</td>\n      <td>23</td>\n      <td>13.87</td>\n      <td>1014.85</td>\n    </tr>\n  </tbody>\n</table>\n<p>24615 rows × 4 columns</p>\n</div>"
     },
     "execution_count": 4,
     "metadata": {},
     "output_type": "execute_result"
    }
   ],
   "source": [
    "def open_csv(f_path):\n",
    "    f = open(f_path, encoding='cp949')\n",
    "    reader = csv.reader(f)\n",
    "    csv_list = []\n",
    "    for j in reader:\n",
    "        csv_list.append(j)\n",
    "    f.close()\n",
    "    df = pd.DataFrame(csv_list)\n",
    "    df = df[[1,2,9]]\n",
    "    df = df.drop(0, axis=0)\n",
    "    df = df.rename(columns={1:'Date',2:'SST',9:'Press'})\n",
    "    df['Date'] = pd.to_datetime(df['Date'],format='%Y%m%d %H', errors='raise')\n",
    "    df = df.sort_values('Date')\n",
    "    df.insert(1, 'Hour', df['Date'].dt.hour)\n",
    "    df['Date'] = df['Date'].dt.date\n",
    "\n",
    "    return df\n",
    "\n",
    "m_df = pd.DataFrame()\n",
    "for k in f_path:\n",
    "    df_temp = open_csv(k)\n",
    "    m_df = pd.concat([m_df, df_temp])\n",
    "\n",
    "m_df"
   ],
   "metadata": {
    "collapsed": false,
    "pycharm": {
     "name": "#%%\n"
    }
   }
  },
  {
   "cell_type": "code",
   "execution_count": 5,
   "outputs": [
    {
     "data": {
      "text/plain": "           Date  Hour    SST    Press\n740  2002-01-01     0  13.08  1010.00\n739  2002-01-01     1     13  1009.08\n738  2002-01-01     2     13  1009.00\n737  2002-01-01     3     13  1009.00\n736  2002-01-01     4     13  1009.00\n..          ...   ...    ...      ...\n5    2004-12-31    19   13.9  1014.18\n4    2004-12-31    20   13.9  1014.32\n3    2004-12-31    21   13.9  1014.98\n2    2004-12-31    22   13.9  1014.87\n1    2004-12-31    23  13.87  1014.85\n\n[24615 rows x 4 columns]",
      "text/html": "<div>\n<style scoped>\n    .dataframe tbody tr th:only-of-type {\n        vertical-align: middle;\n    }\n\n    .dataframe tbody tr th {\n        vertical-align: top;\n    }\n\n    .dataframe thead th {\n        text-align: right;\n    }\n</style>\n<table border=\"1\" class=\"dataframe\">\n  <thead>\n    <tr style=\"text-align: right;\">\n      <th></th>\n      <th>Date</th>\n      <th>Hour</th>\n      <th>SST</th>\n      <th>Press</th>\n    </tr>\n  </thead>\n  <tbody>\n    <tr>\n      <th>740</th>\n      <td>2002-01-01</td>\n      <td>0</td>\n      <td>13.08</td>\n      <td>1010.00</td>\n    </tr>\n    <tr>\n      <th>739</th>\n      <td>2002-01-01</td>\n      <td>1</td>\n      <td>13</td>\n      <td>1009.08</td>\n    </tr>\n    <tr>\n      <th>738</th>\n      <td>2002-01-01</td>\n      <td>2</td>\n      <td>13</td>\n      <td>1009.00</td>\n    </tr>\n    <tr>\n      <th>737</th>\n      <td>2002-01-01</td>\n      <td>3</td>\n      <td>13</td>\n      <td>1009.00</td>\n    </tr>\n    <tr>\n      <th>736</th>\n      <td>2002-01-01</td>\n      <td>4</td>\n      <td>13</td>\n      <td>1009.00</td>\n    </tr>\n    <tr>\n      <th>...</th>\n      <td>...</td>\n      <td>...</td>\n      <td>...</td>\n      <td>...</td>\n    </tr>\n    <tr>\n      <th>5</th>\n      <td>2004-12-31</td>\n      <td>19</td>\n      <td>13.9</td>\n      <td>1014.18</td>\n    </tr>\n    <tr>\n      <th>4</th>\n      <td>2004-12-31</td>\n      <td>20</td>\n      <td>13.9</td>\n      <td>1014.32</td>\n    </tr>\n    <tr>\n      <th>3</th>\n      <td>2004-12-31</td>\n      <td>21</td>\n      <td>13.9</td>\n      <td>1014.98</td>\n    </tr>\n    <tr>\n      <th>2</th>\n      <td>2004-12-31</td>\n      <td>22</td>\n      <td>13.9</td>\n      <td>1014.87</td>\n    </tr>\n    <tr>\n      <th>1</th>\n      <td>2004-12-31</td>\n      <td>23</td>\n      <td>13.87</td>\n      <td>1014.85</td>\n    </tr>\n  </tbody>\n</table>\n<p>24615 rows × 4 columns</p>\n</div>"
     },
     "execution_count": 5,
     "metadata": {},
     "output_type": "execute_result"
    }
   ],
   "source": [
    "# Press 선형보간\n",
    "m_df['Press'] = pd.to_numeric(m_df.Press)\n",
    "m_df['Press'].interpolate(inplace=True)\n",
    "m_df"
   ],
   "metadata": {
    "collapsed": false,
    "pycharm": {
     "name": "#%%\n"
    }
   }
  },
  {
   "cell_type": "code",
   "execution_count": 6,
   "outputs": [],
   "source": [
    "pd.DataFrame.to_csv(m_df, 'D:/JOISS/SST_merge.csv', index=False)"
   ],
   "metadata": {
    "collapsed": false,
    "pycharm": {
     "name": "#%%\n"
    }
   }
  }
 ],
 "metadata": {
  "kernelspec": {
   "display_name": "Python 3",
   "language": "python",
   "name": "python3"
  },
  "language_info": {
   "codemirror_mode": {
    "name": "ipython",
    "version": 2
   },
   "file_extension": ".py",
   "mimetype": "text/x-python",
   "name": "python",
   "nbconvert_exporter": "python",
   "pygments_lexer": "ipython2",
   "version": "2.7.6"
  }
 },
 "nbformat": 4,
 "nbformat_minor": 0
}