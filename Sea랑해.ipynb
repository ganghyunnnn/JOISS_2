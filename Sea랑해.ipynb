{
 "cells": [
  {
   "cell_type": "markdown",
   "source": [
    "import 라이브러리"
   ],
   "metadata": {
    "collapsed": false,
    "pycharm": {
     "name": "#%% md\n"
    }
   }
  },
  {
   "cell_type": "code",
   "execution_count": 2,
   "outputs": [],
   "source": [
    "import numpy as np\n",
    "import pandas as pd\n",
    "import math\n",
    "import matplotlib.pyplot as plt\n",
    "from sklearn.ensemble import RandomForestRegressor\n",
    "from xgboost import XGBRegressor\n",
    "from sklearn.linear_model import LinearRegression\n",
    "from sklearn.impute import KNNImputer\n",
    "from keras.models import Sequential\n",
    "from keras.layers import CuDNNLSTM, Activation"
   ],
   "metadata": {
    "collapsed": false,
    "pycharm": {
     "name": "#%%\n"
    }
   }
  },
  {
   "cell_type": "markdown",
   "source": [
    "데이터 읽기"
   ],
   "metadata": {
    "collapsed": false,
    "pycharm": {
     "name": "#%% md\n"
    }
   }
  },
  {
   "cell_type": "code",
   "execution_count": 3,
   "outputs": [
    {
     "data": {
      "text/plain": "(   Longitude (°E)  Depth (meter)\n 0      130.930214           0.00\n 1      130.934429         323.45\n 2      130.938643         428.52\n 3      130.942857         536.27\n 4      130.947071         644.44,\n   Station name  Longitude (°E)  Latitude (°N)\n 0           U1          131.11      37.397933\n 1           U2          131.26      37.356567\n 2      U3(EC1)          131.43      37.318933\n 3           U4          131.66      37.298867\n 4           U5          131.72      37.294683)"
     },
     "execution_count": 3,
     "metadata": {},
     "output_type": "execute_result"
    }
   ],
   "source": [
    "f_topo = '2002-2004_topo.csv'\n",
    "f_station = '2002-2004_station.csv'\n",
    "\n",
    "topo = pd.read_csv(f_topo, encoding='cp949')\n",
    "station = pd.read_csv(f_station, encoding='cp949')\n",
    "\n",
    "topo.head(), station.head()"
   ],
   "metadata": {
    "collapsed": false,
    "pycharm": {
     "name": "#%%\n"
    }
   }
  },
  {
   "cell_type": "markdown",
   "source": [
    "지점별 면적 계산"
   ],
   "metadata": {
    "collapsed": false,
    "pycharm": {
     "name": "#%% md\n"
    }
   }
  },
  {
   "cell_type": "code",
   "execution_count": 4,
   "outputs": [
    {
     "data": {
      "text/plain": "[9.440572301837701, 13.414473391447409, 17.534785225617426]"
     },
     "execution_count": 4,
     "metadata": {},
     "output_type": "execute_result"
    }
   ],
   "source": [
    "sta_lon = list(station.iloc[:, 1])\n",
    "sta_lat = list(station.iloc[:, 2])\n",
    "\n",
    "sta_width, sta_thickness = [], []\n",
    "for i in range(0, 3):\n",
    "    sta_width.append(sta_lon[i+1] - sta_lon[i])\n",
    "    sta_thickness.append(abs(sta_lat[+1] - sta_lat[i]))\n",
    "\n",
    "width = []\n",
    "for j, k in zip(sta_width, sta_lat):\n",
    "    width.append((2 * math.pi * 6400 * math.cos(k) / 360) * j) # 경도 1도(km) = 2 x 파이 x 지구 반지름 x cos(위도) / 360\n",
    "\n",
    "zero = 1500\n",
    "height = [(2090-zero)*0.001, (2250-zero)*0.001, (2235-zero)*0.001] # 높이\n",
    "\n",
    "area = []\n",
    "for l, m in zip(width, height):\n",
    "    area.append(l * m) # 면적\n",
    "\n",
    "area"
   ],
   "metadata": {
    "collapsed": false,
    "pycharm": {
     "name": "#%%\n"
    }
   }
  },
  {
   "cell_type": "markdown",
   "source": [
    "지점별 수송량 계산 후 csv로 저장"
   ],
   "metadata": {
    "collapsed": false,
    "pycharm": {
     "name": "#%% md\n"
    }
   }
  },
  {
   "cell_type": "code",
   "execution_count": 5,
   "outputs": [],
   "source": [
    "#2002-2004 지점 별 데이터 xls -> csv 변환 후 진행\n",
    "f_u1a = '2002-2004_U1a.csv'\n",
    "f_u1b = '2002-2004_U1b.csv'\n",
    "f_u2a = '2002-2004_U2a.csv'\n",
    "f_u2b = '2002-2004_U2b.csv'\n",
    "f_u3a = '2002-2004_U3a.csv'\n",
    "f_u3b = '2002-2004_U3b.csv'\n",
    "f_list = [f_u1a, f_u1b, f_u2a, f_u2b, f_u3a, f_u3b]\n",
    "\n",
    "sv_1a, sv_1b, sv_2a, sv_2b, sv_3a, sv_3b = pd.DataFrame(), pd.DataFrame(), pd.DataFrame(), pd.DataFrame(), pd.DataFrame(), pd.DataFrame()\n",
    "sv_1a = area[0] * pd.read_csv(f_list[0]).iloc[:, -1]\n",
    "sv_1b = area[0] * pd.read_csv(f_list[1]).iloc[:, -1]\n",
    "sv_2a = area[1] * pd.read_csv(f_list[2]).iloc[:, -1]\n",
    "sv_2b = area[1] * pd.read_csv(f_list[3]).iloc[:, -1]\n",
    "sv_3a = area[2] * pd.read_csv(f_list[4]).iloc[:, -1]\n",
    "sv_3b = area[2] * pd.read_csv(f_list[5]).iloc[:, -1]\n",
    "\n",
    "sv_1a.to_csv('sv_1a.csv', index=False)\n",
    "sv_1b.to_csv('sv_1b.csv', index=False)\n",
    "sv_2a.to_csv('sv_2a.csv', index=False)\n",
    "sv_2b.to_csv('sv_2b.csv', index=False)\n",
    "sv_3a.to_csv('sv_3a.csv', index=False)\n",
    "sv_3b.to_csv('sv_3b.csv', index=False)"
   ],
   "metadata": {
    "collapsed": false,
    "pycharm": {
     "name": "#%%\n"
    }
   }
  },
  {
   "cell_type": "markdown",
   "source": [
    "결측치 처리 (미완성)"
   ],
   "metadata": {
    "collapsed": false,
    "pycharm": {
     "name": "#%% md\n"
    }
   }
  },
  {
   "cell_type": "code",
   "execution_count": 12,
   "outputs": [
    {
     "name": "stdout",
     "output_type": "stream",
     "text": [
      "[[[11.]\n",
      "  [ 4.]\n",
      "  [22.]]\n",
      "\n",
      " [[11.]\n",
      "  [ 4.]\n",
      "  [23.]]\n",
      "\n",
      " [[11.]\n",
      "  [ 5.]\n",
      "  [ 0.]]\n",
      "\n",
      " ...\n",
      "\n",
      " [[11.]\n",
      "  [11.]\n",
      "  [ 5.]]\n",
      "\n",
      " [[11.]\n",
      "  [11.]\n",
      "  [ 6.]]\n",
      "\n",
      " [[11.]\n",
      "  [11.]\n",
      "  [ 7.]]] [[-5.15506572]\n",
      " [-4.94706897]\n",
      " [-5.11761765]\n",
      " ...\n",
      " [-1.2238949 ]\n",
      " [ 0.20079578]\n",
      " [-0.26005395]]\n"
     ]
    },
    {
     "data": {
      "text/plain": "<Figure size 432x288 with 1 Axes>",
      "image/png": "[encoded data removed]"
     },
     "metadata": {
      "needs_background": "light"
     },
     "output_type": "display_data"
    }
   ],
   "source": [
    "file = '1996-2020_U3.csv'\n",
    "\n",
    "df = pd.read_csv(file, encoding='cp949')\n",
    "df = df.drop(['Station', 'Year', 'Minute', 'Second', 'Depth (meter)'], axis=1)\n",
    "\n",
    "df_1 = df.dropna(subset=df.columns[-1])\n",
    "\n",
    "x_tr = df_1.iloc[:, 0:3]\n",
    "y_tr = df_1.iloc[:, -1]\n",
    "\n",
    "x_test = df.iloc[:, 0:3]\n",
    "y_test = df.iloc[:, -1]\n",
    "\n",
    "#RF\n",
    "model = RandomForestRegressor(n_estimators=100, max_depth=100, random_state=42)\n",
    "model.fit(x_tr, y_tr)\n",
    "pred = model.predict(x_test)\n",
    "\n",
    "#XGB\n",
    "model2 = XGBRegressor(n_estimators=50, random_state=42)\n",
    "model2.fit(x_tr, y_tr)\n",
    "pred2 = model2.predict(x_test)\n",
    "\n",
    "#LinearRegression\n",
    "model3 = LinearRegression(fit_intercept=True)\n",
    "model3.fit(x_tr, y_tr)\n",
    "pred3 = model3.predict(x_test)\n",
    "\n",
    "#KNN\n",
    "y_test_4 = np.expand_dims(y_test, axis=0)\n",
    "\n",
    "model4 = KNNImputer(n_neighbors=5)\n",
    "pred4 = model4.fit_transform(y_test_4)\n",
    "pred4 = np.transpose(pd.DataFrame(pred4))\n",
    "\n",
    "\n",
    "x_tr_3 = np.expand_dims(x_tr, -1).astype('float')\n",
    "y_tr_3 = np.expand_dims(y_tr, -1).astype('float')\n",
    "x_test_3 = np.expand_dims(x_test, -1).astype('float')\n",
    "\n",
    "#LSTM\n",
    "# model5 = Sequential()\n",
    "# model5.add(CuDNNLSTM(50, return_sequences=True))\n",
    "# model5.add(CuDNNLSTM(1, return_sequences=False))\n",
    "# model5.add(Activation('sigmoid'))\n",
    "# model5.compile(optimizer='adam', loss='binary_crossentropy', metrics=['accuracy'])\n",
    "# model5.fit(x_tr_3, y_tr_3, epochs=100, batch_size=64)\n",
    "# pred5 = model5.predict(x_test_3)\n",
    "\n",
    "\n",
    "plt.plot(pred)\n",
    "plt.plot(pred2)\n",
    "plt.plot(pred3)\n",
    "plt.plot(pred4)\n",
    "# plt.plot(pred5)\n",
    "plt.plot(y_test, alpha=0.5, color='yellow')\n",
    "plt.show()"
   ],
   "metadata": {
    "collapsed": false,
    "pycharm": {
     "name": "#%%\n"
    }
   }
  },
  {
   "cell_type": "code",
   "execution_count": 7,
   "outputs": [
    {
     "data": {
      "text/plain": "<Figure size 432x288 with 1 Axes>",
      "image/png": "[encoded data removed]"
     },
     "metadata": {
      "needs_background": "light"
     },
     "output_type": "display_data"
    }
   ],
   "source": [
    "plt.plot(pred4, color='yellow')\n",
    "plt.plot(y_test, alpha=0.5, color='blue')\n",
    "plt.show()"
   ],
   "metadata": {
    "collapsed": false,
    "pycharm": {
     "name": "#%%\n"
    }
   }
  },
  {
   "cell_type": "code",
   "execution_count": 8,
   "outputs": [
    {
     "data": {
      "text/plain": "((130404, 1), (210538,))"
     },
     "execution_count": 8,
     "metadata": {},
     "output_type": "execute_result"
    }
   ],
   "source": [
    "pred4.shape, y_test.shape"
   ],
   "metadata": {
    "collapsed": false,
    "pycharm": {
     "name": "#%%\n"
    }
   }
  },
  {
   "cell_type": "code",
   "execution_count": 9,
   "outputs": [
    {
     "data": {
      "text/plain": "80134"
     },
     "execution_count": 9,
     "metadata": {},
     "output_type": "execute_result"
    }
   ],
   "source": [
    "np.sum(y_test.isna())"
   ],
   "metadata": {
    "collapsed": false,
    "pycharm": {
     "name": "#%%\n"
    }
   }
  },
  {
   "cell_type": "code",
   "execution_count": 10,
   "outputs": [
    {
     "data": {
      "text/plain": "80134"
     },
     "execution_count": 10,
     "metadata": {},
     "output_type": "execute_result"
    }
   ],
   "source": [
    "210538-130404"
   ],
   "metadata": {
    "collapsed": false,
    "pycharm": {
     "name": "#%%\n"
    }
   }
  },
  {
   "cell_type": "code",
   "execution_count": 10,
   "outputs": [],
   "source": [],
   "metadata": {
    "collapsed": false,
    "pycharm": {
     "name": "#%%\n"
    }
   }
  },
  {
   "cell_type": "code",
   "execution_count": 10,
   "outputs": [],
   "source": [],
   "metadata": {
    "collapsed": false,
    "pycharm": {
     "name": "#%%\n"
    }
   }
  }
 ],
 "metadata": {
  "kernelspec": {
   "display_name": "Python 3",
   "language": "python",
   "name": "python3"
  },
  "language_info": {
   "codemirror_mode": {
    "name": "ipython",
    "version": 2
   },
   "file_extension": ".py",
   "mimetype": "text/x-python",
   "name": "python",
   "nbconvert_exporter": "python",
   "pygments_lexer": "ipython2",
   "version": "2.7.6"
  }
 },
 "nbformat": 4,
 "nbformat_minor": 0
}